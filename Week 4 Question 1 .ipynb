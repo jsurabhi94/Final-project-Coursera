{
 "cells": [
  {
   "cell_type": "markdown",
   "metadata": {},
   "source": [
    "## 1. Introduction: Business Problem"
   ]
  },
  {
   "cell_type": "markdown",
   "metadata": {},
   "source": [
    "This project deals with discussing the neighborhoods of South Delhi. This would specifically help Business community planning to start Restaurants, Hotels, Café etc. in that neighborhood.\n",
    "\n",
    "The Foursquare API is used to access the venues in the neighborhoods. Since, the data we have return the most number of neighborhoods for South Delhi, we would be analyzing venues in that area/borough.\n",
    "Then they are clustered using the k-means clustering algorithm. Folium visualization library can be used to visualize the clusters superimposed on the map of the city. These clusters will be further analyzed to help business owners selecting a potential location for their business setup."
   ]
  }
 ],
 "metadata": {
  "kernelspec": {
   "display_name": "Python 3",
   "language": "python",
   "name": "python3"
  },
  "language_info": {
   "codemirror_mode": {
    "name": "ipython",
    "version": 3
   },
   "file_extension": ".py",
   "mimetype": "text/x-python",
   "name": "python",
   "nbconvert_exporter": "python",
   "pygments_lexer": "ipython3",
   "version": "3.7.3"
  }
 },
 "nbformat": 4,
 "nbformat_minor": 4
}
